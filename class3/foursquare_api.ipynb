{
 "cells": [
  {
   "cell_type": "markdown",
   "metadata": {
    "deletable": true,
    "editable": true
   },
   "source": [
    "##The Foursquare API exercise using Python"
   ]
  },
  {
   "cell_type": "markdown",
   "metadata": {
    "deletable": true,
    "editable": true
   },
   "source": [
    "###The endpoint for the service"
   ]
  },
  {
   "cell_type": "code",
   "execution_count": 2,
   "metadata": {
    "collapsed": true,
    "deletable": true,
    "editable": true
   },
   "outputs": [],
   "source": [
    "endpoint = 'https://api.foursquare.com/v2/venues/search?'"
   ]
  },
  {
   "cell_type": "markdown",
   "metadata": {
    "deletable": true,
    "editable": true
   },
   "source": [
    "###The query parameters"
   ]
  },
  {
   "cell_type": "code",
   "execution_count": 3,
   "metadata": {
    "collapsed": true,
    "deletable": true,
    "editable": true
   },
   "outputs": [],
   "source": [
    "location = '40.7037253789768,-74.0079939173954'\n",
    "radius = '100'\n",
    "limit = '50'"
   ]
  },
  {
   "cell_type": "markdown",
   "metadata": {
    "deletable": true,
    "editable": true
   },
   "source": [
    "###The authentication parameters"
   ]
  },
  {
   "cell_type": "code",
   "execution_count": 4,
   "metadata": {
    "collapsed": true,
    "deletable": true,
    "editable": true
   },
   "outputs": [],
   "source": [
    "client_id = '4WPE4A1DSFERI2QD2YBD2PJJNETP43DHYYE3ASDQQ5KO3WDT'\n",
    "client_secret = 'UOSHHLSPFB15HMWO2ZU4XR0GWIEFY5DTF0JGCEVIA32KYLTY'\n",
    "v = '20140609'"
   ]
  },
  {
   "cell_type": "markdown",
   "metadata": {
    "deletable": true,
    "editable": true
   },
   "source": [
    "###Combine them together"
   ]
  },
  {
   "cell_type": "code",
   "execution_count": 5,
   "metadata": {
    "collapsed": false,
    "deletable": true,
    "editable": true
   },
   "outputs": [],
   "source": [
    "call= endpoint + 'll=' + location + '&radius=' + radius + '&limit=' + limit + '&client_id=' + client_id + '&client_secret=' + client_secret + '&v=' + v"
   ]
  },
  {
   "cell_type": "markdown",
   "metadata": {
    "deletable": true,
    "editable": true
   },
   "source": [
    "###print the result to test"
   ]
  },
  {
   "cell_type": "code",
   "execution_count": 6,
   "metadata": {
    "collapsed": false,
    "deletable": true,
    "editable": true
   },
   "outputs": [
    {
     "name": "stdout",
     "output_type": "stream",
     "text": [
      "https://api.foursquare.com/v2/venues/search?ll=40.7037253789768,-74.0079939173954&radius=100&limit=50&client_id=4WPE4A1DSFERI2QD2YBD2PJJNETP43DHYYE3ASDQQ5KO3WDT&client_secret=UOSHHLSPFB15HMWO2ZU4XR0GWIEFY5DTF0JGCEVIA32KYLTY&v=20140609\n"
     ]
    }
   ],
   "source": [
    "print call"
   ]
  },
  {
   "cell_type": "markdown",
   "metadata": {
    "deletable": true,
    "editable": true
   },
   "source": [
    "###The requests package will allow us to access the web and return the result"
   ]
  },
  {
   "cell_type": "code",
   "execution_count": 7,
   "metadata": {
    "collapsed": true,
    "deletable": true,
    "editable": true
   },
   "outputs": [],
   "source": [
    "import requests"
   ]
  },
  {
   "cell_type": "markdown",
   "metadata": {
    "deletable": true,
    "editable": true
   },
   "source": [
    "###We \"get\" the result from the web and assign it to the variable `r`"
   ]
  },
  {
   "cell_type": "code",
   "execution_count": 8,
   "metadata": {
    "collapsed": true,
    "deletable": true,
    "editable": true
   },
   "outputs": [],
   "source": [
    "r = requests.get(call)"
   ]
  },
  {
   "cell_type": "markdown",
   "metadata": {
    "deletable": true,
    "editable": true
   },
   "source": [
    "###We then iterate through the result, only outputting the lines that are important"
   ]
  },
  {
   "cell_type": "code",
   "execution_count": 9,
   "metadata": {
    "collapsed": false,
    "deletable": true,
    "editable": true
   },
   "outputs": [
    {
     "name": "stdout",
     "output_type": "stream",
     "text": [
      "Convene at 32 Old Slip 40.7036194044 -74.0075161302\n",
      "32 Old Slip 40.703635895 -74.0080153714\n",
      "Elevated Acre 40.703269265 -74.0087127686\n",
      "55 Water 40.7033862921 -74.0099893698\n",
      "Droidcon NYC 40.703736 -74.00775\n",
      "New York Water Taxi - Pier 11, Slip A 40.7033506 -74.0062665939\n",
      "East River Esplanade 40.7048471453 -74.0045928955\n",
      "NY Waterway Ferry - Wall St/Pier 11 Terminal 40.703252998 -74.0060949326\n",
      "Droga5 LLC 40.7044690853 -74.0059954449\n",
      "East River Ferry - Wall St/Pier 11 Terminal 40.7036682315 -74.0065233823\n",
      "EmblemHealth 40.7035953686 -74.0088933441\n",
      "Financial Square 40.7038836618 -74.0076481136\n",
      "Arup 40.704078597 -74.0085088729\n",
      "77 Water Street 40.7044619675 -74.0082678607\n",
      "Old Traditional Polish Cuisine 40.7041801927 -74.0078432194\n",
      "Robert Silman Associates 40.7035387412 -74.0072751167\n",
      "Citigroup 40.7051724768 -74.0075111389\n",
      "Old Slip Park 40.7041244953 -74.0086580708\n",
      "55 Water Cafeteria 40.7033769365 -74.0093294598\n",
      "Chase Bank 40.7038332878 -74.0092892913\n",
      "Andaz Wall Street Gym 40.7050219226 -74.0078489578\n",
      "Capco 40.7043301829 -74.0082563839\n",
      "Seastreak Ferry - Pier 11 Terminal 40.7035367791 -74.0066553664\n",
      "Vietnam Veterans Memorial Plaza 40.7026245387 -74.0098057429\n",
      "Di So's Italian Food Truck 40.7040082302 -74.0085777335\n",
      "Starbucks 40.70480591 -74.00706045\n",
      "Crystal & Company 40.7036457388 -74.0083768901\n",
      "East River Esplanade South Dog Run 40.7044555801 -74.0057831219\n",
      "NYC DOT 40.702850095 -74.0098631263\n",
      "Mannahatta Park 40.7047005637 -74.0068332579\n",
      "Duane Reade 40.704647879 -74.0078008175\n",
      "75 Wall Street Condominiums 40.7052345412 -74.0077858354\n",
      "S&P Global Market Intelligence 40.7034482018 -74.0097641945\n",
      "Shawarma House Indian Grill 40.7036909843 -74.008480181\n",
      "Citibank 40.7044294416 -74.006741443\n",
      "Hanover Square Park 40.7045185102 -74.0094040584\n",
      "Manon Cafe / Leonidas 40.7046478021 -74.0095303022\n",
      "Banh Mi Cart 40.7045068562 -74.0094671803\n",
      "New York's Best Halal Food 40.7040902703 -74.0079924178\n",
      "City of New York HHC 40.7035979063 -74.0087039778\n",
      "Helicopter Flight Services 40.7035638335 -74.0077227129\n",
      "Hudson River Trading LLC 40.7035880234 -74.0082506455\n",
      "Ferry House Cafe 40.7037634825 -74.006299583\n",
      "The Bloc 40.7036286467 -74.0076194216\n",
      "Luckyim Thai 40.7018434491 -74.0127207991\n",
      "The Foundation Center 40.7039307997 -74.0082563839\n",
      "All American Deli 40.703561 -74.010173\n",
      "US Census Bureau 40.7038749664 -74.0076997593\n",
      "Haru 40.7054309668 -74.0083539365\n",
      "Leonidas 40.70471708 -74.0095876857\n"
     ]
    }
   ],
   "source": [
    "for i in r.json()['response']['venues']:\n",
    "    print i['name'], i['location']['lat'], i['location']['lng']"
   ]
  },
  {
   "cell_type": "markdown",
   "metadata": {
    "deletable": true,
    "editable": true
   },
   "source": [
    "###Let's save this as a CSV now"
   ]
  },
  {
   "cell_type": "markdown",
   "metadata": {
    "deletable": true,
    "editable": true
   },
   "source": [
    "####1. We have to open the file we want to save to and indicate that we're writing to it ('w')"
   ]
  },
  {
   "cell_type": "code",
   "execution_count": 14,
   "metadata": {
    "collapsed": false,
    "deletable": true,
    "editable": true
   },
   "outputs": [],
   "source": [
    "outputfile = open('foursquare_venues.csv','w')"
   ]
  },
  {
   "cell_type": "markdown",
   "metadata": {
    "deletable": true,
    "editable": true
   },
   "source": [
    "####2. Then we write the header row. NOTE: '\\n' indicates a new line"
   ]
  },
  {
   "cell_type": "code",
   "execution_count": 15,
   "metadata": {
    "collapsed": true,
    "deletable": true,
    "editable": true
   },
   "outputs": [],
   "source": [
    "outputfile.write('venue,lat,lng\\n')"
   ]
  },
  {
   "cell_type": "markdown",
   "metadata": {
    "deletable": true,
    "editable": true
   },
   "source": [
    "####3. Loop through the response and write out the name, lat, and lon for the venue"
   ]
  },
  {
   "cell_type": "code",
   "execution_count": 16,
   "metadata": {
    "collapsed": false,
    "deletable": true,
    "editable": true
   },
   "outputs": [],
   "source": [
    "for i in r.json()['response']['venues']:\n",
    "    outputfile.write('\"' + i['name'] + '\",' + str(i['location']['lat']) + ',' + str(i['location']['lng']) + '\\n')"
   ]
  },
  {
   "cell_type": "markdown",
   "metadata": {
    "deletable": true,
    "editable": true
   },
   "source": [
    "####4. Close the file when you're done so everything is written to the output file"
   ]
  },
  {
   "cell_type": "code",
   "execution_count": 17,
   "metadata": {
    "collapsed": true,
    "deletable": true,
    "editable": true
   },
   "outputs": [],
   "source": [
    "outputfile.close()"
   ]
  },
  {
   "cell_type": "markdown",
   "metadata": {
    "deletable": true,
    "editable": true
   },
   "source": [
    "###Check and make sure the file is good"
   ]
  }
 ],
 "metadata": {
  "kernelspec": {
   "display_name": "Python 2",
   "language": "python",
   "name": "python2"
  },
  "language_info": {
   "codemirror_mode": {
    "name": "ipython",
    "version": 2
   },
   "file_extension": ".py",
   "mimetype": "text/x-python",
   "name": "python",
   "nbconvert_exporter": "python",
   "pygments_lexer": "ipython2",
   "version": "2.7.10"
  }
 },
 "nbformat": 4,
 "nbformat_minor": 0
}
