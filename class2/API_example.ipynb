{
 "cells": [
  {
   "cell_type": "markdown",
   "metadata": {},
   "source": [
    "# This is an example of doing the geocoding we did with OpenRefine but using Python to call the same service"
   ]
  },
  {
   "cell_type": "code",
   "execution_count": null,
   "metadata": {
    "collapsed": false
   },
   "outputs": [],
   "source": [
    "#add your app_id here\n",
    "APP_ID = '48eab85b'\n",
    "#add your app_key here\n",
    "APP_KEY = 'fa31219b4e426ff96a8ded2905e6ae3a'"
   ]
  },
  {
   "cell_type": "code",
   "execution_count": null,
   "metadata": {
    "collapsed": false
   },
   "outputs": [],
   "source": [
    "#We have to tell Python where to find the input file, giving the full path to the file as the first argument\n",
    "#and then whether it's reading the file ('r') or writing to the file ('w'). We could also append to a file ('a')\n",
    "#for more information, see http://www.tutorialspoint.com/python/python_files_io.htm\n",
    "inputFile = open('job0714.csv','rU') #change to match the file location\n",
    "header = next(inputFile) #take the next line of input and assign it to a variable"
   ]
  },
  {
   "cell_type": "code",
   "execution_count": null,
   "metadata": {
    "collapsed": false
   },
   "outputs": [],
   "source": [
    "header #the value of the variable header"
   ]
  },
  {
   "cell_type": "code",
   "execution_count": null,
   "metadata": {
    "collapsed": false
   },
   "outputs": [],
   "source": [
    "import csv #package for dealing with csv files"
   ]
  },
  {
   "cell_type": "code",
   "execution_count": null,
   "metadata": {
    "collapsed": false
   },
   "outputs": [],
   "source": [
    "#We use the csv.reader function to read in the columns properly, especially the ones that have commas in between\n",
    "#double quotation marks.  This is a built in package to Python, but we still have to link to it with the import statement above\n",
    "#for more information, see https://docs.python.org/2/library/csv.html\n",
    "inputReader = csv.reader(inputFile) "
   ]
  },
  {
   "cell_type": "code",
   "execution_count": null,
   "metadata": {
    "collapsed": false,
    "scrolled": true
   },
   "outputs": [],
   "source": [
    "for i in range(10):\n",
    "    print next(inputReader)"
   ]
  },
  {
   "cell_type": "code",
   "execution_count": null,
   "metadata": {
    "collapsed": false,
    "scrolled": true
   },
   "outputs": [],
   "source": [
    "test_line = next(inputReader) #the next function returns a line and I'm assigning that line to a variable. \n",
    "# This helps me test the input from the text.\n",
    "test_line"
   ]
  },
  {
   "cell_type": "code",
   "execution_count": null,
   "metadata": {
    "collapsed": false
   },
   "outputs": [],
   "source": [
    "test_line[7]"
   ]
  },
  {
   "cell_type": "code",
   "execution_count": null,
   "metadata": {
    "collapsed": false
   },
   "outputs": [],
   "source": [
    "#because we've already iterated through some of the file contents, it's best to re-open the file and start from the beginning\n",
    "inputFile = open('job0714.csv','rU') \n",
    "header = next(inputFile) #take the next line and assign it to a variable\n",
    "inputReader = csv.reader(inputFile) "
   ]
  },
  {
   "cell_type": "code",
   "execution_count": null,
   "metadata": {
    "collapsed": false
   },
   "outputs": [],
   "source": [
    "#this time, we're just printing out the BIN\n",
    "for line in inputReader:\n",
    "    print line[7]\n",
    "inputFile.close() #close the open input file"
   ]
  },
  {
   "cell_type": "code",
   "execution_count": null,
   "metadata": {
    "collapsed": false
   },
   "outputs": [],
   "source": [
    "#because we've already iterated through and closed the file, we have to re-open the file\n",
    "inputFile = open('job0714.csv','rU') \n",
    "header = next(inputFile) #take the next line and assign it to a variable\n",
    "inputReader = csv.reader(inputFile) "
   ]
  },
  {
   "cell_type": "code",
   "execution_count": null,
   "metadata": {
    "collapsed": false
   },
   "outputs": [],
   "source": [
    "#This time, we're taking the BIN and inserting it into the API string\n",
    "#I can check the string by clicking the link and it should provide me the response I'm looking for\n",
    "#this allows me to test that I've constructed the string properly\n",
    "for line in inputReader: \n",
    "    print('https://api.cityofnewyork.us/geoclient/v1/bin.json?bin=' + line[7] +'&app_id=' + APP_ID + '&app_key=' + APP_KEY)\n",
    "\n",
    "inputFile.close() #close the open input file"
   ]
  },
  {
   "cell_type": "code",
   "execution_count": null,
   "metadata": {
    "collapsed": false
   },
   "outputs": [],
   "source": [
    "#because we've already iterated through and closed the file, we have to re-open the file\n",
    "inputFile = open('job0714.csv','rU') \n",
    "header = next(inputFile) #take the next line and assign it to a variable\n",
    "inputReader = csv.reader(inputFile) "
   ]
  },
  {
   "cell_type": "code",
   "execution_count": null,
   "metadata": {
    "collapsed": false
   },
   "outputs": [],
   "source": [
    "#This time, I want to process the response I get. I'm going to get the response and write the output to a file\n",
    "#Here I'm opening the file I'm going to write to. If the file already exists, it overwrite the file.\n",
    "outputFile = open('job0714_output.csv','w') #opens the file\n",
    "outputFile.write('job_number,bin_num,longitude,latitude\\n') #writes the first line of my CSV file. NOTE: '\\n' writes a new line"
   ]
  },
  {
   "cell_type": "code",
   "execution_count": null,
   "metadata": {
    "collapsed": false
   },
   "outputs": [],
   "source": [
    "import requests #package for executing web requests ('HTTP for Humans')\n",
    "#for more information, check the docs at http://docs.python-requests.org/en/latest/"
   ]
  },
  {
   "cell_type": "code",
   "execution_count": null,
   "metadata": {
    "collapsed": false
   },
   "outputs": [],
   "source": [
    "#This is a test call using BIN 1013618 to see what the rerequests.get\n",
    "r = requests.get('https://api.cityofnewyork.us/geoclient//v1/bin.json?bin=1013618&app_id=' + APP_ID + '&app_key=' + APP_KEY)"
   ]
  },
  {
   "cell_type": "code",
   "execution_count": null,
   "metadata": {
    "collapsed": false
   },
   "outputs": [],
   "source": [
    "r.json()['bin']['latitudeInternalLabel']"
   ]
  },
  {
   "cell_type": "code",
   "execution_count": null,
   "metadata": {
    "collapsed": false
   },
   "outputs": [],
   "source": [
    "#this is an example of the value from the requests.get() function\n",
    "#the 'u' before the string indicates it's in Unicode format. \n",
    "#for more information on Unicode characters, see http://en.wikipedia.org/wiki/Unicode_symbols\n",
    "#I use this test response to know which fields to use in my for loop later on\n",
    "r.json()['bin']"
   ]
  },
  {
   "cell_type": "code",
   "execution_count": null,
   "metadata": {
    "collapsed": false
   },
   "outputs": [],
   "source": [
    "#This time through, I'm executing the web request, I'm getting the reponse, and then writing it to the output\n",
    "for line in inputReader:\n",
    "    #the web request, using the get() function from the package requests and assigning it to the variable r\n",
    "    r = requests.get('https://api.cityofnewyork.us/geoclient//v1/bin.json?bin=' + line[7] +'&app_id=' + APP_ID + '&app_key=' + APP_KEY)\n",
    "    job_number = line[0] #I'm getting the job number from the line (at position 0) and assigning it to the variable job_number\n",
    "    bin_num = line[7] #I'm getting the BIN from the line (at position 7) and assigning it to the variable bin_num\n",
    "\n",
    "    #My default value is 'Null' for longitude. 0 is a legitimate value and when I map these, I don't want anything to plot to 0,0\n",
    "    longitude = 'Null' \n",
    "    latitude = 'Null'\n",
    "\n",
    "    #The r variable has a function called json() that takes the allows me to interact with the JSON document from the API\n",
    "    #I'm going to parse the response and extract the longitude and latitude from the response\n",
    "    \n",
    "    #longitude\n",
    "    if 'longitudeInternalLabel' in r.json()['bin'].keys(): #I first check that there is a longitude present\n",
    "        #if it's present, I assign the value to the variable \"longitude\". Otherwise, the variable longitude has the value 'Null'\n",
    "        longitude = r.json()['bin']['longitudeInternalLabel'] \n",
    "    #latitude\n",
    "    if 'latitudeInternalLabel' in r.json()['bin'].keys(): #I then check that there is a latitude present\n",
    "        #if it's present, I assign the value to the variable \"latitude\". Otherwise, the variable latitude has the value 'Null'\n",
    "        latitude = r.json()['bin']['latitudeInternalLabel']\n",
    "    #I then write the result to the output file, stringing together the variables\n",
    "    #because the latitude and longitude are decimal numbers, I have to convert them to strings using the str() function\n",
    "    #in order to combine them together with the rest of the variables. \n",
    "    #Note the commas in the string and the '\\n' new line character at the end of the string\n",
    "    outputFile.write(job_number + ',' + bin_num + ',' + str(longitude) + ',' + str(latitude) + '\\n')\n",
    "\n",
    "inputFile.close() #close the input file\n",
    "outputFile.close() #close the open output file. \n",
    "#This is important because if you don't close it, it's possible the last bit of data won't get written to the file before the \n",
    "#program closes."
   ]
  },
  {
   "cell_type": "code",
   "execution_count": null,
   "metadata": {
    "collapsed": false
   },
   "outputs": [],
   "source": []
  }
 ],
 "metadata": {
  "kernelspec": {
   "display_name": "Python 2",
   "language": "python",
   "name": "python2"
  },
  "language_info": {
   "codemirror_mode": {
    "name": "ipython",
    "version": 2
   },
   "file_extension": ".py",
   "mimetype": "text/x-python",
   "name": "python",
   "nbconvert_exporter": "python",
   "pygments_lexer": "ipython2",
   "version": "2.7.11"
  }
 },
 "nbformat": 4,
 "nbformat_minor": 0
}
